{
 "cells": [
  {
   "cell_type": "markdown",
   "id": "74f78dae",
   "metadata": {},
   "source": [
    "# Handwritten number classification\n",
    "\n",
    "## by Yasin Shafiei\n",
    "\n",
    "### Project discription:\n",
    "This project uses a CNN model to classify handwritten digits in the `MNIST` dataset."
   ]
  },
  {
   "cell_type": "markdown",
   "id": "d96bbb83",
   "metadata": {},
   "source": [
    "### 1. Read and ready the data"
   ]
  },
  {
   "cell_type": "code",
   "execution_count": 15,
   "id": "35d657ff",
   "metadata": {},
   "outputs": [],
   "source": [
    "# import libraries\n",
    "import tensorflow as tf\n",
    "from keras import datasets\n",
    "from keras import layers\n",
    "from keras.models import *\n",
    "import matplotlib.pyplot as plt\n",
    "import seaborn as sb\n",
    "import numpy as np"
   ]
  },
  {
   "cell_type": "code",
   "execution_count": 2,
   "id": "5fd34de2",
   "metadata": {},
   "outputs": [],
   "source": [
    "# define hyperparameters\n",
    "EPOCHS = 10\n",
    "NUM_CLASSES = 10"
   ]
  },
  {
   "cell_type": "code",
   "execution_count": 3,
   "id": "7a4564d6",
   "metadata": {},
   "outputs": [],
   "source": [
    "# load the data\n",
    "(train_images, train_labels), (test_images, test_labels) = datasets.mnist.load_data()"
   ]
  },
  {
   "cell_type": "code",
   "execution_count": 4,
   "id": "5b06b1b6",
   "metadata": {},
   "outputs": [
    {
     "name": "stdout",
     "output_type": "stream",
     "text": [
      "Number of training examples: 60000\n",
      "Number of testing examples: 10000\n",
      "Shape of images: (28, 28)\n"
     ]
    }
   ],
   "source": [
    "# show some informations about the data\n",
    "print(f\"Number of training examples: {len(train_images)}\")\n",
    "print(f\"Number of testing examples: {len(test_images)}\")\n",
    "print(f\"Shape of images: {train_images[0].shape}\")"
   ]
  },
  {
   "cell_type": "code",
   "execution_count": 5,
   "id": "1c4cc3e0",
   "metadata": {},
   "outputs": [
    {
     "data": {
      "text/plain": [
       "<matplotlib.image.AxesImage at 0x1b859c69d30>"
      ]
     },
     "execution_count": 5,
     "metadata": {},
     "output_type": "execute_result"
    },
    {
     "data": {
      "image/png": "[encoded data removed]",
      "text/plain": [
       "<Figure size 288x288 with 1 Axes>"
      ]
     },
     "metadata": {
      "needs_background": "light"
     },
     "output_type": "display_data"
    }
   ],
   "source": [
    "# show a sample of the dataset \n",
    "plt.matshow(train_images[0])"
   ]
  },
  {
   "cell_type": "markdown",
   "id": "b3e438bc",
   "metadata": {},
   "source": [
    "### 2. Normalize the images"
   ]
  },
  {
   "cell_type": "code",
   "execution_count": 6,
   "id": "8603d5d2",
   "metadata": {},
   "outputs": [],
   "source": [
    "# Normalize the train dataset\n",
    "train_images = tf.keras.utils.normalize(train_images, axis=1)\n",
    "# Normalize the test dataset\n",
    "test_images = tf.keras.utils.normalize(test_images, axis=1)"
   ]
  },
  {
   "cell_type": "markdown",
   "id": "500f885a",
   "metadata": {},
   "source": [
    "### 3. CNN Model"
   ]
  },
  {
   "cell_type": "code",
   "execution_count": 7,
   "id": "812ff12b",
   "metadata": {},
   "outputs": [],
   "source": [
    "# define the model\n",
    "model = Sequential()\n",
    "\n",
    "# conv, max pooling layer 1\n",
    "model.add(layers.Conv2D(32, kernel_size = (3, 3), padding = \"same\", activation = \"relu\", input_shape = (28, 28, 1)))\n",
    "model.add(layers.MaxPool2D((2, 2)))\n",
    "\n",
    "# Flatten\n",
    "model.add(layers.Flatten())\n",
    "\n",
    "# hidden layer 1\n",
    "model.add(layers.Dense(256, activation = \"relu\"))\n",
    "\n",
    "#hidden layer 2\n",
    "model.add(layers.Dense(256, activation = \"relu\"))\n",
    "\n",
    "# dropout \n",
    "model.add(layers.Dropout(0.1))\n",
    "\n",
    "# output layer \n",
    "model.add(layers.Dense(10, activation = \"softmax\"))"
   ]
  },
  {
   "cell_type": "code",
   "execution_count": 8,
   "id": "d83ccdf4",
   "metadata": {},
   "outputs": [
    {
     "name": "stdout",
     "output_type": "stream",
     "text": [
      "Model: \"sequential\"\n",
      "_________________________________________________________________\n",
      " Layer (type)                Output Shape              Param #   \n",
      "=================================================================\n",
      " conv2d (Conv2D)             (None, 28, 28, 32)        320       \n",
      "                                                                 \n",
      " max_pooling2d (MaxPooling2D  (None, 14, 14, 32)       0         \n",
      " )                                                               \n",
      "                                                                 \n",
      " flatten (Flatten)           (None, 6272)              0         \n",
      "                                                                 \n",
      " dense (Dense)               (None, 256)               1605888   \n",
      "                                                                 \n",
      " dense_1 (Dense)             (None, 256)               65792     \n",
      "                                                                 \n",
      " dropout (Dropout)           (None, 256)               0         \n",
      "                                                                 \n",
      " dense_2 (Dense)             (None, 10)                2570      \n",
      "                                                                 \n",
      "=================================================================\n",
      "Total params: 1,674,570\n",
      "Trainable params: 1,674,570\n",
      "Non-trainable params: 0\n",
      "_________________________________________________________________\n"
     ]
    }
   ],
   "source": [
    "# see the model summary\n",
    "model.summary()"
   ]
  },
  {
   "cell_type": "code",
   "execution_count": 9,
   "id": "083a5bd4",
   "metadata": {},
   "outputs": [],
   "source": [
    "# compile the model\n",
    "model.compile(optimizer=\"adam\", loss=\"sparse_categorical_crossentropy\", metrics=[\"accuracy\"])"
   ]
  },
  {
   "cell_type": "markdown",
   "id": "98e63f8e",
   "metadata": {},
   "source": [
    "### 4. Train the model"
   ]
  },
  {
   "cell_type": "code",
   "execution_count": 10,
   "id": "3c641060",
   "metadata": {},
   "outputs": [
    {
     "name": "stdout",
     "output_type": "stream",
     "text": [
      "Epoch 1/10\n",
      "1875/1875 [==============================] - 23s 12ms/step - loss: 0.1818 - accuracy: 0.9445\n",
      "Epoch 2/10\n",
      "1875/1875 [==============================] - 22s 12ms/step - loss: 0.0586 - accuracy: 0.9815\n",
      "Epoch 3/10\n",
      "1875/1875 [==============================] - 22s 12ms/step - loss: 0.0362 - accuracy: 0.9884\n",
      "Epoch 4/10\n",
      "1875/1875 [==============================] - 23s 12ms/step - loss: 0.0244 - accuracy: 0.9918\n",
      "Epoch 5/10\n",
      "1875/1875 [==============================] - 22s 12ms/step - loss: 0.0183 - accuracy: 0.9941\n",
      "Epoch 6/10\n",
      "1875/1875 [==============================] - 20s 11ms/step - loss: 0.0133 - accuracy: 0.9959\n",
      "Epoch 7/10\n",
      "1875/1875 [==============================] - 21s 11ms/step - loss: 0.0124 - accuracy: 0.9957\n",
      "Epoch 8/10\n",
      "1875/1875 [==============================] - 21s 11ms/step - loss: 0.0086 - accuracy: 0.9972\n",
      "Epoch 9/10\n",
      "1875/1875 [==============================] - 21s 11ms/step - loss: 0.0106 - accuracy: 0.9969\n",
      "Epoch 10/10\n",
      "1875/1875 [==============================] - 23s 12ms/step - loss: 0.0086 - accuracy: 0.9971\n"
     ]
    },
    {
     "data": {
      "text/plain": [
       "<keras.callbacks.History at 0x1b8568ca400>"
      ]
     },
     "execution_count": 10,
     "metadata": {},
     "output_type": "execute_result"
    }
   ],
   "source": [
    "# fit the model to training\n",
    "model.fit(train_images, train_labels, epochs = EPOCHS)"
   ]
  },
  {
   "cell_type": "markdown",
   "id": "95e4bc83",
   "metadata": {},
   "source": [
    "### 5. Draw the confusion matrix"
   ]
  },
  {
   "cell_type": "code",
   "execution_count": 16,
   "id": "92d2c11f",
   "metadata": {},
   "outputs": [
    {
     "data": {
      "text/plain": [
       "Text(69.0, 0.5, 'Truth')"
      ]
     },
     "execution_count": 16,
     "metadata": {},
     "output_type": "execute_result"
    },
    {
     "data": {
      "image/png": "[encoded data removed]",
      "text/plain": [
       "<Figure size 720x504 with 2 Axes>"
      ]
     },
     "metadata": {
      "needs_background": "light"
     },
     "output_type": "display_data"
    }
   ],
   "source": [
    "# make model to predict\n",
    "prediction = model.predict(test_images)\n",
    "prediction_labels = [np.argmax(i) for i in prediction]\n",
    "\n",
    "# calculate the confusion matrix\n",
    "matrix = tf.math.confusion_matrix(labels = test_labels, predictions = prediction_labels)\n",
    "\n",
    "# plot the confusion matrix\n",
    "plt.figure(figsize=(10, 7))\n",
    "sb.heatmap(matrix, annot=True, fmt='d')\n",
    "plt.xlabel('Predicted')\n",
    "plt.ylabel('Truth')"
   ]
  },
  {
   "cell_type": "markdown",
   "id": "9b2b788f",
   "metadata": {},
   "source": [
    "### 6. Evaluate the model"
   ]
  },
  {
   "cell_type": "code",
   "execution_count": 17,
   "id": "d0cfe59e",
   "metadata": {},
   "outputs": [
    {
     "name": "stdout",
     "output_type": "stream",
     "text": [
      "313/313 [==============================] - 1s 4ms/step - loss: 0.1043 - accuracy: 0.9793\n",
      "\n",
      "Test accuracy: 0.9793000221252441\n",
      "Test loss: 0.10432043671607971\n"
     ]
    }
   ],
   "source": [
    "# make model to predict (again 😎) and see the loss and accuracy\n",
    "test_loss, test_accuracy = model.evaluate(test_images, test_labels)\n",
    "\n",
    "# print the loss and accuracy of predictions\n",
    "print(f\"\\nTest accuracy: {test_accuracy}\\nTest loss: {test_loss}\")"
   ]
  },
  {
   "cell_type": "markdown",
   "id": "b6582a7a",
   "metadata": {},
   "source": [
    "The prediction accuracy is very good. Now lets see some of the predictions"
   ]
  },
  {
   "cell_type": "markdown",
   "id": "3279fc7f",
   "metadata": {},
   "source": [
    "### 7. See the predictions"
   ]
  },
  {
   "cell_type": "code",
   "execution_count": 20,
   "id": "35688bc2",
   "metadata": {},
   "outputs": [
    {
     "name": "stdout",
     "output_type": "stream",
     "text": [
      "6\n"
     ]
    }
   ],
   "source": [
    "# make model to predict again 😂\n",
    "predictions = model.predict([test_images])\n",
    "\n",
    "# see the predictions label\n",
    "print(np.argmax(predictions[100]))"
   ]
  },
  {
   "cell_type": "code",
   "execution_count": 33,
   "id": "f24fc3e1",
   "metadata": {
    "scrolled": false
   },
   "outputs": [
    {
     "data": {
      "image/png": "[encoded data removed]",
      "text/plain": [
       "<Figure size 288x288 with 1 Axes>"
      ]
     },
     "metadata": {},
     "output_type": "display_data"
    },
    {
     "data": {
      "image/png": "[encoded data removed]",
      "text/plain": [
       "<Figure size 288x288 with 1 Axes>"
      ]
     },
     "metadata": {},
     "output_type": "display_data"
    },
    {
     "data": {
      "image/png": "[encoded data removed]",
      "text/plain": [
       "<Figure size 288x288 with 1 Axes>"
      ]
     },
     "metadata": {},
     "output_type": "display_data"
    },
    {
     "data": {
      "image/png": "[encoded data removed]",
      "text/plain": [
       "<Figure size 288x288 with 1 Axes>"
      ]
     },
     "metadata": {},
     "output_type": "display_data"
    },
    {
     "data": {
      "image/png": "[encoded data removed]",
      "text/plain": [
       "<Figure size 288x288 with 1 Axes>"
      ]
     },
     "metadata": {},
     "output_type": "display_data"
    },
    {
     "data": {
      "image/png": "[encoded data removed]",
      "text/plain": [
       "<Figure size 288x288 with 1 Axes>"
      ]
     },
     "metadata": {},
     "output_type": "display_data"
    },
    {
     "data": {
      "image/png": "[encoded data removed]",
      "text/plain": [
       "<Figure size 288x288 with 1 Axes>"
      ]
     },
     "metadata": {},
     "output_type": "display_data"
    },
    {
     "data": {
      "image/png": "[encoded data removed]",
      "text/plain": [
       "<Figure size 288x288 with 1 Axes>"
      ]
     },
     "metadata": {},
     "output_type": "display_data"
    },
    {
     "data": {
      "image/png": "[encoded data removed]",
      "text/plain": [
       "<Figure size 288x288 with 1 Axes>"
      ]
     },
     "metadata": {},
     "output_type": "display_data"
    },
    {
     "data": {
      "image/png": "[encoded data removed]",
      "text/plain": [
       "<Figure size 288x288 with 1 Axes>"
      ]
     },
     "metadata": {},
     "output_type": "display_data"
    }
   ],
   "source": [
    "for i in range(10):\n",
    "    \n",
    "    plt.matshow(test_images[i])\n",
    "    plt.title(f\"Prediction: {np.argmax(predictions[i])}\")\n",
    "    plt.xticks([])\n",
    "    plt.yticks([])"
   ]
  },
  {
   "cell_type": "code",
   "execution_count": null,
   "id": "43410cc5",
   "metadata": {},
   "outputs": [],
   "source": []
  }
 ],
 "metadata": {
  "kernelspec": {
   "display_name": "Python 3 (ipykernel)",
   "language": "python",
   "name": "python3"
  },
  "language_info": {
   "codemirror_mode": {
    "name": "ipython",
    "version": 3
   },
   "file_extension": ".py",
   "mimetype": "text/x-python",
   "name": "python",
   "nbconvert_exporter": "python",
   "pygments_lexer": "ipython3",
   "version": "3.8.8"
  }
 },
 "nbformat": 4,
 "nbformat_minor": 5
}
